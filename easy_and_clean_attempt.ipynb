{
 "cells": [
  {
   "cell_type": "code",
   "execution_count": null,
   "id": "a065fd24",
   "metadata": {},
   "outputs": [],
   "source": [
    "import pandas as pd\n",
    "from sklearn.model_selection import train_test_split\n",
    "\n",
    "df = pd.read_csv('data\\\\Kangaroo.csv')\n",
    "df.head()\n",
    "\n",
    "#Take a very small subset of columns\n",
    "df_subset=df[[\"type\",\n",
    "              \"bedroomCount\",\n",
    "              \"bathroomCount\",\n",
    "              \"province\",\n",
    "              \"habitableSurface\",\n",
    "              \"gardenSurface\",\n",
    "              \"epcScore\",\n",
    "              \"facedeCount\",\n",
    "              \"price\"]]\n",
    "\n",
    "#Drop null values in very relevant columns\n",
    "df_subset=df_subset.dropna(axis=0,subset=['price','habitableSurface','bedroomCount','bathroomCount','epcScore'])\n",
    "\n",
    "#Drop values with 100k<price<1.5M\n",
    "df_subset=df_subset[(df_subset['price']>1e5) & (df_subset['price']<1.5e6)]\n",
    "\n",
    "#We split whats left into df_subset and target\n",
    "X=df_subset.drop([\"price\"],inplace=False, axis=1)\n",
    "y=df_subset[\"price\"]\n",
    "\n",
    "#Split training and testing\n",
    "X_train,X_test,y_train,y_test=train_test_split(X,y,shuffle=True,random_state=42,train_size=0.8)\n"
   ]
  },
  {
   "cell_type": "code",
   "execution_count": null,
   "id": "0e402613",
   "metadata": {},
   "outputs": [
    {
     "name": "stdout",
     "output_type": "stream",
     "text": [
      "MAE on test:  93260.58826658524\n"
     ]
    }
   ],
   "source": [
    "from sklearn.compose import ColumnTransformer\n",
    "from sklearn.preprocessing import OrdinalEncoder, OneHotEncoder\n",
    "from sklearn.impute import SimpleImputer\n",
    "from sklearn.pipeline import Pipeline\n",
    "from sklearn.ensemble import GradientBoostingRegressor\n",
    "from sklearn.compose import make_column_selector as selector\n",
    "from sklearn.metrics import mean_absolute_error\n",
    "import numpy as np\n",
    "\n",
    "# Ordinal encoder\n",
    "epc_order = ['A++', 'A+', 'A', 'B', 'C', 'D', 'E', 'F', 'G']\n",
    "enc_epc=OrdinalEncoder(categories=[epc_order], handle_unknown='use_encoded_value', unknown_value=-1)\n",
    "\n",
    "# Column transformer\n",
    "preprocessor = ColumnTransformer(\n",
    "    transformers=[\n",
    "        (\"epc_ord\", enc_epc, [\"epcScore\"]), #Encodes EPC\n",
    "\n",
    "        (\"num\", SimpleImputer(strategy='constant',fill_value=0), #Imputes missing numerical values to 0\n",
    "         selector(dtype_include=np.number)), #Finds all the number columns\n",
    "        \n",
    "        (\"oh\", OneHotEncoder(handle_unknown=\"ignore\"),[\"type\",\"province\"]) #One hot encodes type and province\n",
    "    ],\n",
    "    remainder=\"drop\"\n",
    ")\n",
    "\n",
    "# Whole Pipeline\n",
    "gbr_pipeline = Pipeline(steps=[\n",
    "    (\"prep\", preprocessor),\n",
    "    (\"reg\", GradientBoostingRegressor(n_estimators=200,loss='absolute_error',random_state=42))\n",
    "])\n",
    "\n",
    "#Fit\n",
    "gbr_pipeline.fit(X_train, y_train)\n",
    "\n",
    "#Test\n",
    "y_pred = gbr_pipeline.predict(X_test)\n",
    "print(\"MAE on test: \", mean_absolute_error(y_test, y_pred))"
   ]
  },
  {
   "cell_type": "code",
   "execution_count": 108,
   "id": "8db09b36",
   "metadata": {},
   "outputs": [
    {
     "name": "stdout",
     "output_type": "stream",
     "text": [
      "[427871.6500321]\n"
     ]
    }
   ],
   "source": [
    "#Play with it and try it out\n",
    "\n",
    "house_to_predict={\"type\":'HOUSE',\n",
    "              \"bedroomCount\":4,\n",
    "              \"bathroomCount\":2,\n",
    "              \"province\":'Bruxelles',\n",
    "              \"habitableSurface\":200,\n",
    "              \"gardenSurface\":np.nan,\n",
    "              \"epcScore\":'C',\n",
    "              \"facedeCount\":2}\n",
    "\n",
    "print(gbr_pipeline.predict(pd.DataFrame([house_to_predict])))"
   ]
  }
 ],
 "metadata": {
  "kernelspec": {
   "display_name": "Python 3",
   "language": "python",
   "name": "python3"
  },
  "language_info": {
   "codemirror_mode": {
    "name": "ipython",
    "version": 3
   },
   "file_extension": ".py",
   "mimetype": "text/x-python",
   "name": "python",
   "nbconvert_exporter": "python",
   "pygments_lexer": "ipython3",
   "version": "3.12.3"
  }
 },
 "nbformat": 4,
 "nbformat_minor": 5
}
